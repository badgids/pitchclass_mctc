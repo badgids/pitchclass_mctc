{
 "cells": [
  {
   "cell_type": "markdown",
   "metadata": {},
   "source": [
    "## Predict with Pre-trained Model\n",
    "  \n",
    "This notebook shows how to load a pre-trained model and to use this for predicting pitch-class estimates of an unknown audio file.\n",
    "\n",
    "&copy; Christof Weiss and Geoffroy Peeters, Télécom Paris 2021"
   ]
  },
  {
   "cell_type": "code",
   "execution_count": 1,
   "metadata": {},
   "outputs": [],
   "source": [
    "import os\n",
    "import sys\n",
    "basepath = os.path.abspath(os.path.dirname(os.path.dirname('.')))\n",
    "sys.path.append(basepath)\n",
    "import numpy as np, os, scipy, scipy.spatial, matplotlib.pyplot as plt, IPython.display as ipd\n",
    "from numba import jit\n",
    "import librosa\n",
    "import libfmp.b, libfmp.c3, libfmp.c5\n",
    "import pandas as pd, pickle, re\n",
    "from numba import jit\n",
    "import torch.utils.data\n",
    "import torch.nn as nn\n",
    "import libdl.data_preprocessing\n",
    "from libdl.data_loaders import dataset_context, dataset_context_segm\n",
    "from libdl.nn_models import basic_cnn_segm_sigmoid, basic_cnn_segm_blank_logsoftmax\n",
    "from libdl.data_preprocessing import compute_hopsize_cqt, compute_hcqt, compute_efficient_hcqt, compute_annotation_array_nooverlap"
   ]
  },
  {
   "cell_type": "markdown",
   "metadata": {},
   "source": [
    "### 1. Specify and load model"
   ]
  },
  {
   "cell_type": "code",
   "execution_count": 2,
   "metadata": {},
   "outputs": [
    {
     "data": {
      "text/plain": [
       "<All keys matched successfully>"
      ]
     },
     "execution_count": 2,
     "metadata": {},
     "output_type": "execute_result"
    }
   ],
   "source": [
    "dir_models = os.path.join(basepath, 'models_pretrained')\n",
    "\n",
    "# Set model parameters\n",
    "num_octaves_inp = 6\n",
    "num_output_bins, min_pitch = 12, 60\n",
    "model_params = {'n_chan_input': 6,\n",
    "                'n_chan_layers': [20,20,10,1],\n",
    "                'n_ch_out': 2,\n",
    "                'n_bins_in': num_octaves_inp*12*3,\n",
    "                'n_bins_out': num_output_bins,\n",
    "                'a_lrelu': 0.3,\n",
    "                'p_dropout': 0.2\n",
    "                }\n",
    "mp = model_params\n",
    "\n",
    "\n",
    "### Select model according to paper's experiments (uncomment as desired) ##############################\n",
    "\n",
    "\n",
    "# Experiment 1 (Table 3) - Loss and Model variants ####################################################\n",
    "\n",
    "# Separable CTC (SCTC) loss:\n",
    "# fn_model, model = 'exp136b_traintest_schubert_sctcthreecomp_pitchclass.pt', basic_cnn_segm_logsoftmax(n_chan_input=mp['n_chan_input'], n_chan_layers=mp['n_chan_layers'], n_ch_out=3, n_bins_in=mp['n_bins_in'], n_bins_out=mp['n_bins_out'], a_lrelu=mp['a_lrelu'], p_dropout=mp['p_dropout'])\n",
    "\n",
    "# Non-Epsilon MCTC (MCTC:NE) loss:\n",
    "# fn_model, model = 'exp136d_traintest_schubert_mctcnethreecomp_pitchclass.pt', basic_cnn_segm_blank_logsoftmax(n_chan_input=mp['n_chan_input'], n_chan_layers=mp['n_chan_layers'], n_ch_out=3, n_bins_in=mp['n_bins_in'], n_bins_out=mp['n_bins_out'], a_lrelu=mp['a_lrelu'], p_dropout=mp['p_dropout'])\n",
    "\n",
    "# MCTC with epsilon (MCTC:WE) loss:\n",
    "# fn_model, model = 'exp136e_traintest_schubert_mctcwe_pitchclass.pt', basic_cnn_segm_logsoftmax(n_chan_input=mp['n_chan_input'], n_chan_layers=mp['n_chan_layers'], n_ch_out=mp['n_ch_out'], n_bins_in=mp['n_bins_in'], n_bins_out=mp['n_bins_out'], a_lrelu=mp['a_lrelu'], p_dropout=mp['p_dropout'])\n",
    "\n",
    "# Strongly-aligned training (BCE loss):\n",
    "# fn_model, model = 'exp136h_traintest_schubert_aligned_pitchclass.pt', basic_cnn_segm_sigmoid(n_chan_input=mp['n_chan_input'], n_chan_layers=mp['n_chan_layers'], n_bins_in=mp['n_bins_in'], n_bins_out=mp['n_bins_out'], a_lrelu=mp['a_lrelu'], p_dropout=mp['p_dropout'])\n",
    "\n",
    "\n",
    "# Experiment 2 (Figure 4) - Cross-dataset experiment ###################################################\n",
    "\n",
    "# Train MusicNet & MAESTRO, test others (aligned / MCTC):\n",
    "fn_model, model = 'exp131b_trainmaestromunet_testmix_mctcwe_pitchclass_basiccnn_normtargl_SGD.pt', basic_cnn_segm_blank_logsoftmax(n_chan_input=mp['n_chan_input'], n_chan_layers=mp['n_chan_layers'], n_ch_out=mp['n_ch_out'], n_bins_in=mp['n_bins_in'], n_bins_out=mp['n_bins_out'], a_lrelu=mp['a_lrelu'], p_dropout=mp['p_dropout'])\n",
    "# fn_model, model = 'exp131e_trainmaestromunet_testmix_aligned_pitchclass_basiccnn_SGD.pt', basic_cnn_segm_sigmoid(n_chan_input=mp['n_chan_input'], n_chan_layers=mp['n_chan_layers'],     n_bins_in=mp['n_bins_in'], n_bins_out=mp['n_bins_out'], a_lrelu=mp['a_lrelu'], p_dropout=mp['p_dropout'])\n",
    "\n",
    "# Test MusicNet, train others (aligned / MCTC):\n",
    "# fn_model, model = 'exp137a_trainmix_testmusicnet_mctcwe_pitchclass_basiccnn.pt', basic_cnn_segm_blank_logsoftmax(n_chan_input=mp['n_chan_input'], n_chan_layers=mp['n_chan_layers'], n_ch_out=mp['n_ch_out'], n_bins_in=mp['n_bins_in'], n_bins_out=mp['n_bins_out'], a_lrelu=mp['a_lrelu'], p_dropout=mp['p_dropout'])\n",
    "# fn_model, model = 'exp137b_trainmix_testmusicnet_aligned_pitchclass_basiccnn_segmmodel.pt', basic_cnn_segm_sigmoid(n_chan_input=mp['n_chan_input'], n_chan_layers=mp['n_chan_layers'],     n_bins_in=mp['n_bins_in'], n_bins_out=mp['n_bins_out'], a_lrelu=mp['a_lrelu'], p_dropout=mp['p_dropout'])\n",
    "\n",
    "# Test MAESTRO, train others (aligned / MCTC):\n",
    "# fn_model, model = 'exp138a_trainmix_testmaestro_mctcwe_pitchclass_basiccnn.pt', basic_cnn_segm_blank_logsoftmax(n_chan_input=mp['n_chan_input'], n_chan_layers=mp['n_chan_layers'], n_ch_out=mp['n_ch_out'], n_bins_in=mp['n_bins_in'], n_bins_out=mp['n_bins_out'], a_lrelu=mp['a_lrelu'], p_dropout=mp['p_dropout'])\n",
    "# fn_model, model = 'exp138b_trainmix_testmaestro_aligned_pitchclass_basiccnn_segmmodel.pt', basic_cnn_segm_sigmoid(n_chan_input=mp['n_chan_input'], n_chan_layers=mp['n_chan_layers'],     n_bins_in=mp['n_bins_in'], n_bins_out=mp['n_bins_out'], a_lrelu=mp['a_lrelu'], p_dropout=mp['p_dropout'])\n",
    "\n",
    "\n",
    "########################################################################################################\n",
    "\n",
    "path_trained_model = os.path.join(dir_models, fn_model)\n",
    "\n",
    "model.load_state_dict(torch.load(path_trained_model, map_location=torch.device('cpu')))"
   ]
  },
  {
   "cell_type": "markdown",
   "metadata": {},
   "source": [
    "### 2. Load Test Audio and compute HCQT"
   ]
  },
  {
   "cell_type": "code",
   "execution_count": 3,
   "metadata": {},
   "outputs": [],
   "source": [
    "fs = 22050\n",
    "audio_folder = os.path.join(basepath, 'data', 'Schubert_Winterreise', 'audio_wav')\n",
    "\n",
    "# fn_audio = 'Schubert_D911-02_HU33.wav'\n",
    "# fn_audio = 'Schubert_D911-02_SC06.wav'\n",
    "# fn_audio = 'Schubert_D911-23_HU33.wav'\n",
    "fn_audio = 'Schubert_D911-23_SC06.wav'\n",
    "\n",
    "path_audio = os.path.join(audio_folder, fn_audio)\n",
    "f_audio, fs_load = librosa.load(path_audio, sr=fs)\n",
    "\n",
    "bins_per_semitone = 3\n",
    "num_octaves = 6\n",
    "n_bins = bins_per_semitone*12*num_octaves\n",
    "num_harmonics = 5\n",
    "num_subharmonics = 1\n",
    "\n",
    "f_hcqt, fs_hcqt, hopsize_cqt = compute_efficient_hcqt(f_audio, fs=22050, fmin=librosa.note_to_hz('C1'), fs_hcqt_target=10, \\\n",
    "                                                    bins_per_octave=bins_per_semitone*12, num_octaves=num_octaves, \\\n",
    "                                                    num_harmonics=num_harmonics, num_subharmonics=num_subharmonics)"
   ]
  },
  {
   "cell_type": "markdown",
   "metadata": {},
   "source": [
    "### 3. Predict Pitch Classes"
   ]
  },
  {
   "cell_type": "code",
   "execution_count": 4,
   "metadata": {},
   "outputs": [
    {
     "name": "stdout",
     "output_type": "stream",
     "text": [
      "(1920, 12)\n"
     ]
    }
   ],
   "source": [
    "# Set test parameters\n",
    "test_params = {'batch_size': 1,\n",
    "              'shuffle': False,\n",
    "              'num_workers': 1\n",
    "              }\n",
    "device = 'cpu'\n",
    "\n",
    "test_dataset_params = {'context': 75,\n",
    "                       'seglength': 10,\n",
    "                       'stride': 10,\n",
    "                       'compression': 10\n",
    "                      }\n",
    "half_context = test_dataset_params['context']//2\n",
    "\n",
    "inputs = np.transpose(f_hcqt, (2, 1, 0))\n",
    "targets = np.zeros(inputs.shape[1:]) # need dummy targets to use dataset object\n",
    "inputs_context = torch.from_numpy(np.pad(inputs, ((0, 0), (half_context, half_context+1), (0, 0))))\n",
    "targets_context = torch.from_numpy(np.pad(targets, ((half_context, half_context+1), (0, 0))))\n",
    "\n",
    "\n",
    "test_set = dataset_context_segm(inputs_context, targets_context, test_dataset_params)\n",
    "test_generator = torch.utils.data.DataLoader(test_set, **test_params)\n",
    "\n",
    "pred_tot = np.zeros((0, num_output_bins))\n",
    "\n",
    "\n",
    "### Use this variant for MCTC loss ###############################################################\n",
    "for test_batch, test_labels in test_generator:\n",
    "    # Model computations\n",
    "    y_pred = model(test_batch)\n",
    "    pred_log = torch.squeeze(y_pred.to('cpu')).detach().numpy()\n",
    "    pred_tot = np.append(pred_tot, pred_log[1, :, 1:], axis=0)\n",
    "predictions = np.exp(pred_tot)\n",
    "\n",
    "\n",
    "### Use this variant for aligned training (BCE loss) ############################################    \n",
    "# for test_batch, test_labels in test_generator:\n",
    "#     # Model computations\n",
    "#     y_pred = model(test_batch)\n",
    "#     # pred_log = torch.squeeze(torch.squeeze(y_pred.to('cpu'),2),1).detach().numpy()\n",
    "#     pred_log = torch.squeeze(y_pred.to('cpu')).detach().numpy()\n",
    "#     pred_tot = np.append(pred_tot, pred_log, axis=0)\n",
    "# predictions = pred_tot\n",
    "\n",
    "print(predictions.shape)"
   ]
  },
  {
   "cell_type": "markdown",
   "metadata": {},
   "source": [
    "### 4. Plot Predictions and Annotations (Ground truth)"
   ]
  },
  {
   "cell_type": "code",
   "execution_count": 5,
   "metadata": {},
   "outputs": [
    {
     "data": {
      "image/png": "[encoded data removed]",
      "text/plain": [
       "<Figure size 720x252 with 2 Axes>"
      ]
     },
     "metadata": {
      "needs_background": "light"
     },
     "output_type": "display_data"
    },
    {
     "data": {
      "image/png": "[encoded data removed]",
      "text/plain": [
       "<Figure size 720x252 with 2 Axes>"
      ]
     },
     "metadata": {
      "needs_background": "light"
     },
     "output_type": "display_data"
    }
   ],
   "source": [
    "start_sec = 25\n",
    "show_sec = 50\n",
    "\n",
    "fig, ax = plt.subplots(1, 2, gridspec_kw={'width_ratios': [1, 0.05]}, figsize=(10, 3.5))\n",
    "im = libfmp.b.plot_matrix(predictions.T[:, int(start_sec*fs_hcqt):int(show_sec*fs_hcqt)], Fs=fs_hcqt, ax=ax, cmap='gray_r', ylabel='MIDI pitch')\n",
    "ax[0].set_title('Pitch-class predictions')\n",
    "ax[0].set_yticks([0, 2, 4, 5, 7, 9, 11])\n",
    "ax[0].set_yticklabels(['C', 'D', 'E', 'F', 'G', 'A', 'B'], fontsize=10)\n",
    "ax[0].set_xticklabels(np.arange(start_sec-5, show_sec+5, 5))\n",
    "ax[1].set_ylim([0, 1])\n",
    "plt.tight_layout()\n",
    "\n",
    "\n",
    "annot_folder = os.path.join(basepath, 'data', 'Schubert_Winterreise', 'ann_audio_note')\n",
    "fn_annot = os.path.join(annot_folder, fn_audio[:-4]+'.csv')\n",
    "\n",
    "df = pd.read_csv(fn_annot, sep=';', skiprows=1, header=None)\n",
    "note_events = df.to_numpy()[:, :3]\n",
    "        \n",
    "f_annot_pitchclass = compute_annotation_array_nooverlap(note_events.copy(), f_hcqt, fs_hcqt, annot_type='pitch_class', shorten=1.0)\n",
    "\n",
    "fig, ax = plt.subplots(1, 2, gridspec_kw={'width_ratios': [1, 0.05]}, figsize=(10, 3.5))\n",
    "cfig, cax, cim = libfmp.b.plot_matrix(f_annot_pitchclass[:, int(start_sec*fs_hcqt):int(show_sec*fs_hcqt)], ax=ax, Fs=fs_hcqt, cmap='gray_r', ylabel='MIDI pitch')\n",
    "ax[0].set_title('Pitch-class annotations')\n",
    "ax[0].set_yticks([0, 2, 4, 5, 7, 9, 11])\n",
    "ax[0].set_yticklabels(['C', 'D', 'E', 'F', 'G', 'A', 'B'], fontsize=10)\n",
    "ax[0].set_xticklabels(np.arange(start_sec-5, show_sec+5, 5))\n",
    "ax[1].set_ylim([0, 1])\n",
    "plt.tight_layout()"
   ]
  }
 ],
 "metadata": {
  "kernelspec": {
   "display_name": "Python 3",
   "language": "python",
   "name": "python3"
  },
  "language_info": {
   "codemirror_mode": {
    "name": "ipython",
    "version": 3
   },
   "file_extension": ".py",
   "mimetype": "text/x-python",
   "name": "python",
   "nbconvert_exporter": "python",
   "pygments_lexer": "ipython3",
   "version": "3.7.9"
  }
 },
 "nbformat": 4,
 "nbformat_minor": 4
}
